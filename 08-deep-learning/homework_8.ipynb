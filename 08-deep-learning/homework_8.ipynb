{
 "cells": [
  {
   "cell_type": "code",
   "execution_count": 16,
   "id": "70b922cd-120e-4286-956d-c0f284dd0c17",
   "metadata": {},
   "outputs": [
    {
     "name": "stdout",
     "output_type": "stream",
     "text": [
      "2.18.0\n"
     ]
    }
   ],
   "source": [
    "import numpy as np\n",
    "import tensorflow as tf\n",
    "from tensorflow import keras\n",
    "print(tf.__version__)\n",
    "import matplotlib.pyplot as plt\n",
    "\n",
    "%matplotlib inline"
   ]
  },
  {
   "cell_type": "code",
   "execution_count": 17,
   "id": "f73a8c2f-fda1-47a6-84df-451333386c18",
   "metadata": {},
   "outputs": [],
   "source": [
    "SEED = 42\n",
    "np.random.seed(SEED)\n",
    "tf.random.set_seed(SEED)"
   ]
  },
  {
   "cell_type": "code",
   "execution_count": 18,
   "id": "ab8471ed-df68-4b5a-aa33-25999a9dd47f",
   "metadata": {},
   "outputs": [],
   "source": [
    "from tensorflow.keras.applications.xception import preprocess_input\n",
    "from tensorflow.keras.preprocessing.image import ImageDataGenerator"
   ]
  },
  {
   "cell_type": "code",
   "execution_count": 19,
   "id": "3fadb94a-543f-4ab0-b998-d892c1920295",
   "metadata": {},
   "outputs": [],
   "source": [
    "def make_model(learning_rate=0.002):\n",
    "    inputs = keras.Input(shape=(200,200,3))\n",
    "    conv_layer = keras.layers.Conv2D(filters=32, kernel_size=(3,3), activation='relu')(inputs)\n",
    "    reduce_map = keras.layers.MaxPooling2D(pool_size=(2,2))(conv_layer)\n",
    "    vectors = keras.layers.Flatten()(reduce_map)\n",
    "    inner_layer = keras.layers.Dense(64, activation='relu')(vectors)\n",
    "    outputs = keras.layers.Dense(1, activation='sigmoid')(inner_layer)\n",
    "    model = keras.Model(inputs, outputs)\n",
    "\n",
    "    optimizer = keras.optimizers.SGD(learning_rate=0.002, momentum=0.8)\n",
    "    loss = keras.losses.BinaryCrossentropy() #since we specify an activation for the output layer, we don't need to set from_logits=True\n",
    "\n",
    "    model.compile(optimizer=optimizer,\n",
    "                 loss=loss,\n",
    "                 metrics=['accuracy'])\n",
    "\n",
    "    return model\n"
   ]
  },
  {
   "cell_type": "code",
   "execution_count": 20,
   "id": "e18eb075-3cda-41ea-a324-d89b7de41125",
   "metadata": {},
   "outputs": [],
   "source": [
    "learning_rate=0.002\n",
    "\n",
    "model = make_model(learning_rate=0.002)"
   ]
  },
  {
   "cell_type": "code",
   "execution_count": 21,
   "id": "cd3c4b16-adb4-4c2c-a14b-664a0d0e4534",
   "metadata": {},
   "outputs": [
    {
     "data": {
      "text/html": [
       "<pre style=\"white-space:pre;overflow-x:auto;line-height:normal;font-family:Menlo,'DejaVu Sans Mono',consolas,'Courier New',monospace\"><span style=\"font-weight: bold\">Model: \"functional_2\"</span>\n",
       "</pre>\n"
      ],
      "text/plain": [
       "\u001b[1mModel: \"functional_2\"\u001b[0m\n"
      ]
     },
     "metadata": {},
     "output_type": "display_data"
    },
    {
     "data": {
      "text/html": [
       "<pre style=\"white-space:pre;overflow-x:auto;line-height:normal;font-family:Menlo,'DejaVu Sans Mono',consolas,'Courier New',monospace\">┏━━━━━━━━━━━━━━━━━━━━━━━━━━━━━━━━━┳━━━━━━━━━━━━━━━━━━━━━━━━┳━━━━━━━━━━━━━━━┓\n",
       "┃<span style=\"font-weight: bold\"> Layer (type)                    </span>┃<span style=\"font-weight: bold\"> Output Shape           </span>┃<span style=\"font-weight: bold\">       Param # </span>┃\n",
       "┡━━━━━━━━━━━━━━━━━━━━━━━━━━━━━━━━━╇━━━━━━━━━━━━━━━━━━━━━━━━╇━━━━━━━━━━━━━━━┩\n",
       "│ input_layer_2 (<span style=\"color: #0087ff; text-decoration-color: #0087ff\">InputLayer</span>)      │ (<span style=\"color: #00d7ff; text-decoration-color: #00d7ff\">None</span>, <span style=\"color: #00af00; text-decoration-color: #00af00\">200</span>, <span style=\"color: #00af00; text-decoration-color: #00af00\">200</span>, <span style=\"color: #00af00; text-decoration-color: #00af00\">3</span>)    │             <span style=\"color: #00af00; text-decoration-color: #00af00\">0</span> │\n",
       "├─────────────────────────────────┼────────────────────────┼───────────────┤\n",
       "│ conv2d_2 (<span style=\"color: #0087ff; text-decoration-color: #0087ff\">Conv2D</span>)               │ (<span style=\"color: #00d7ff; text-decoration-color: #00d7ff\">None</span>, <span style=\"color: #00af00; text-decoration-color: #00af00\">198</span>, <span style=\"color: #00af00; text-decoration-color: #00af00\">198</span>, <span style=\"color: #00af00; text-decoration-color: #00af00\">32</span>)   │           <span style=\"color: #00af00; text-decoration-color: #00af00\">896</span> │\n",
       "├─────────────────────────────────┼────────────────────────┼───────────────┤\n",
       "│ max_pooling2d_2 (<span style=\"color: #0087ff; text-decoration-color: #0087ff\">MaxPooling2D</span>)  │ (<span style=\"color: #00d7ff; text-decoration-color: #00d7ff\">None</span>, <span style=\"color: #00af00; text-decoration-color: #00af00\">99</span>, <span style=\"color: #00af00; text-decoration-color: #00af00\">99</span>, <span style=\"color: #00af00; text-decoration-color: #00af00\">32</span>)     │             <span style=\"color: #00af00; text-decoration-color: #00af00\">0</span> │\n",
       "├─────────────────────────────────┼────────────────────────┼───────────────┤\n",
       "│ flatten_2 (<span style=\"color: #0087ff; text-decoration-color: #0087ff\">Flatten</span>)             │ (<span style=\"color: #00d7ff; text-decoration-color: #00d7ff\">None</span>, <span style=\"color: #00af00; text-decoration-color: #00af00\">313632</span>)         │             <span style=\"color: #00af00; text-decoration-color: #00af00\">0</span> │\n",
       "├─────────────────────────────────┼────────────────────────┼───────────────┤\n",
       "│ dense_4 (<span style=\"color: #0087ff; text-decoration-color: #0087ff\">Dense</span>)                 │ (<span style=\"color: #00d7ff; text-decoration-color: #00d7ff\">None</span>, <span style=\"color: #00af00; text-decoration-color: #00af00\">64</span>)             │    <span style=\"color: #00af00; text-decoration-color: #00af00\">20,072,512</span> │\n",
       "├─────────────────────────────────┼────────────────────────┼───────────────┤\n",
       "│ dense_5 (<span style=\"color: #0087ff; text-decoration-color: #0087ff\">Dense</span>)                 │ (<span style=\"color: #00d7ff; text-decoration-color: #00d7ff\">None</span>, <span style=\"color: #00af00; text-decoration-color: #00af00\">1</span>)              │            <span style=\"color: #00af00; text-decoration-color: #00af00\">65</span> │\n",
       "└─────────────────────────────────┴────────────────────────┴───────────────┘\n",
       "</pre>\n"
      ],
      "text/plain": [
       "┏━━━━━━━━━━━━━━━━━━━━━━━━━━━━━━━━━┳━━━━━━━━━━━━━━━━━━━━━━━━┳━━━━━━━━━━━━━━━┓\n",
       "┃\u001b[1m \u001b[0m\u001b[1mLayer (type)                   \u001b[0m\u001b[1m \u001b[0m┃\u001b[1m \u001b[0m\u001b[1mOutput Shape          \u001b[0m\u001b[1m \u001b[0m┃\u001b[1m \u001b[0m\u001b[1m      Param #\u001b[0m\u001b[1m \u001b[0m┃\n",
       "┡━━━━━━━━━━━━━━━━━━━━━━━━━━━━━━━━━╇━━━━━━━━━━━━━━━━━━━━━━━━╇━━━━━━━━━━━━━━━┩\n",
       "│ input_layer_2 (\u001b[38;5;33mInputLayer\u001b[0m)      │ (\u001b[38;5;45mNone\u001b[0m, \u001b[38;5;34m200\u001b[0m, \u001b[38;5;34m200\u001b[0m, \u001b[38;5;34m3\u001b[0m)    │             \u001b[38;5;34m0\u001b[0m │\n",
       "├─────────────────────────────────┼────────────────────────┼───────────────┤\n",
       "│ conv2d_2 (\u001b[38;5;33mConv2D\u001b[0m)               │ (\u001b[38;5;45mNone\u001b[0m, \u001b[38;5;34m198\u001b[0m, \u001b[38;5;34m198\u001b[0m, \u001b[38;5;34m32\u001b[0m)   │           \u001b[38;5;34m896\u001b[0m │\n",
       "├─────────────────────────────────┼────────────────────────┼───────────────┤\n",
       "│ max_pooling2d_2 (\u001b[38;5;33mMaxPooling2D\u001b[0m)  │ (\u001b[38;5;45mNone\u001b[0m, \u001b[38;5;34m99\u001b[0m, \u001b[38;5;34m99\u001b[0m, \u001b[38;5;34m32\u001b[0m)     │             \u001b[38;5;34m0\u001b[0m │\n",
       "├─────────────────────────────────┼────────────────────────┼───────────────┤\n",
       "│ flatten_2 (\u001b[38;5;33mFlatten\u001b[0m)             │ (\u001b[38;5;45mNone\u001b[0m, \u001b[38;5;34m313632\u001b[0m)         │             \u001b[38;5;34m0\u001b[0m │\n",
       "├─────────────────────────────────┼────────────────────────┼───────────────┤\n",
       "│ dense_4 (\u001b[38;5;33mDense\u001b[0m)                 │ (\u001b[38;5;45mNone\u001b[0m, \u001b[38;5;34m64\u001b[0m)             │    \u001b[38;5;34m20,072,512\u001b[0m │\n",
       "├─────────────────────────────────┼────────────────────────┼───────────────┤\n",
       "│ dense_5 (\u001b[38;5;33mDense\u001b[0m)                 │ (\u001b[38;5;45mNone\u001b[0m, \u001b[38;5;34m1\u001b[0m)              │            \u001b[38;5;34m65\u001b[0m │\n",
       "└─────────────────────────────────┴────────────────────────┴───────────────┘\n"
      ]
     },
     "metadata": {},
     "output_type": "display_data"
    },
    {
     "data": {
      "text/html": [
       "<pre style=\"white-space:pre;overflow-x:auto;line-height:normal;font-family:Menlo,'DejaVu Sans Mono',consolas,'Courier New',monospace\"><span style=\"font-weight: bold\"> Total params: </span><span style=\"color: #00af00; text-decoration-color: #00af00\">20,073,473</span> (76.57 MB)\n",
       "</pre>\n"
      ],
      "text/plain": [
       "\u001b[1m Total params: \u001b[0m\u001b[38;5;34m20,073,473\u001b[0m (76.57 MB)\n"
      ]
     },
     "metadata": {},
     "output_type": "display_data"
    },
    {
     "data": {
      "text/html": [
       "<pre style=\"white-space:pre;overflow-x:auto;line-height:normal;font-family:Menlo,'DejaVu Sans Mono',consolas,'Courier New',monospace\"><span style=\"font-weight: bold\"> Trainable params: </span><span style=\"color: #00af00; text-decoration-color: #00af00\">20,073,473</span> (76.57 MB)\n",
       "</pre>\n"
      ],
      "text/plain": [
       "\u001b[1m Trainable params: \u001b[0m\u001b[38;5;34m20,073,473\u001b[0m (76.57 MB)\n"
      ]
     },
     "metadata": {},
     "output_type": "display_data"
    },
    {
     "data": {
      "text/html": [
       "<pre style=\"white-space:pre;overflow-x:auto;line-height:normal;font-family:Menlo,'DejaVu Sans Mono',consolas,'Courier New',monospace\"><span style=\"font-weight: bold\"> Non-trainable params: </span><span style=\"color: #00af00; text-decoration-color: #00af00\">0</span> (0.00 B)\n",
       "</pre>\n"
      ],
      "text/plain": [
       "\u001b[1m Non-trainable params: \u001b[0m\u001b[38;5;34m0\u001b[0m (0.00 B)\n"
      ]
     },
     "metadata": {},
     "output_type": "display_data"
    }
   ],
   "source": [
    "model.summary()"
   ]
  },
  {
   "cell_type": "code",
   "execution_count": 22,
   "id": "5b0ff769-d1c2-45af-963e-e760960a4d86",
   "metadata": {},
   "outputs": [
    {
     "name": "stdout",
     "output_type": "stream",
     "text": [
      "Found 800 images belonging to 2 classes.\n",
      "(20, 200, 200, 3) (20,)\n",
      "[0. 1.]\n"
     ]
    }
   ],
   "source": [
    "train_generator = ImageDataGenerator(rescale=1./255)\n",
    "\n",
    "train_ds = train_generator.flow_from_directory(\n",
    "    './data/train',\n",
    "    target_size=(200, 200),\n",
    "    batch_size=20,\n",
    "    class_mode='binary',  # Ensures labels are binary (0 or 1)\n",
    "    shuffle=True\n",
    ")\n",
    "\n",
    "X, y = next(train_ds)\n",
    "print(X.shape, y.shape)\n",
    "\n",
    "print(np.unique(y)) "
   ]
  },
  {
   "cell_type": "code",
   "execution_count": 23,
   "id": "e18197d0-f2c8-4bae-b74b-36bc0c65ac64",
   "metadata": {},
   "outputs": [
    {
     "data": {
      "text/plain": [
       "{'curly': 0, 'straight': 1}"
      ]
     },
     "execution_count": 23,
     "metadata": {},
     "output_type": "execute_result"
    }
   ],
   "source": [
    "train_ds.class_indices"
   ]
  },
  {
   "cell_type": "code",
   "execution_count": 24,
   "id": "eaa08e88-7927-44a7-ada6-6833c62e5964",
   "metadata": {},
   "outputs": [
    {
     "name": "stdout",
     "output_type": "stream",
     "text": [
      "Found 201 images belonging to 2 classes.\n"
     ]
    }
   ],
   "source": [
    "test_generator = ImageDataGenerator(rescale=1./255)\n",
    "\n",
    "test_ds = test_generator.flow_from_directory(\n",
    "    './data/test',\n",
    "    target_size=(200, 200),\n",
    "    class_mode='binary',\n",
    "    batch_size=20,\n",
    "    shuffle=True\n",
    ")"
   ]
  },
  {
   "cell_type": "code",
   "execution_count": 25,
   "id": "6c78d9bf-fceb-443f-8627-9a414859b5bd",
   "metadata": {},
   "outputs": [
    {
     "data": {
      "text/plain": [
       "{'curly': 0, 'straight': 1}"
      ]
     },
     "execution_count": 25,
     "metadata": {},
     "output_type": "execute_result"
    }
   ],
   "source": [
    "test_ds.class_indices"
   ]
  },
  {
   "cell_type": "code",
   "execution_count": 26,
   "id": "a1940c22-2b73-45dc-b518-03be3ecb8cdf",
   "metadata": {},
   "outputs": [
    {
     "name": "stdout",
     "output_type": "stream",
     "text": [
      "Epoch 1/10\n"
     ]
    },
    {
     "name": "stderr",
     "output_type": "stream",
     "text": [
      "/usr/local/python/3.12.1/lib/python3.12/site-packages/keras/src/trainers/data_adapters/py_dataset_adapter.py:121: UserWarning: Your `PyDataset` class should call `super().__init__(**kwargs)` in its constructor. `**kwargs` can include `workers`, `use_multiprocessing`, `max_queue_size`. Do not pass these arguments to `fit()`, as they will be ignored.\n",
      "  self._warn_if_super_not_called()\n"
     ]
    },
    {
     "name": "stdout",
     "output_type": "stream",
     "text": [
      "\u001b[1m40/40\u001b[0m \u001b[32m━━━━━━━━━━━━━━━━━━━━\u001b[0m\u001b[37m\u001b[0m \u001b[1m11s\u001b[0m 257ms/step - accuracy: 0.5302 - loss: 0.7364 - val_accuracy: 0.5572 - val_loss: 0.6597\n",
      "Epoch 2/10\n",
      "\u001b[1m40/40\u001b[0m \u001b[32m━━━━━━━━━━━━━━━━━━━━\u001b[0m\u001b[37m\u001b[0m \u001b[1m10s\u001b[0m 249ms/step - accuracy: 0.6530 - loss: 0.6078 - val_accuracy: 0.5622 - val_loss: 0.7223\n",
      "Epoch 3/10\n",
      "\u001b[1m40/40\u001b[0m \u001b[32m━━━━━━━━━━━━━━━━━━━━\u001b[0m\u001b[37m\u001b[0m \u001b[1m10s\u001b[0m 246ms/step - accuracy: 0.6709 - loss: 0.5875 - val_accuracy: 0.6219 - val_loss: 0.6313\n",
      "Epoch 4/10\n",
      "\u001b[1m40/40\u001b[0m \u001b[32m━━━━━━━━━━━━━━━━━━━━\u001b[0m\u001b[37m\u001b[0m \u001b[1m10s\u001b[0m 254ms/step - accuracy: 0.6957 - loss: 0.5585 - val_accuracy: 0.6119 - val_loss: 0.6541\n",
      "Epoch 5/10\n",
      "\u001b[1m40/40\u001b[0m \u001b[32m━━━━━━━━━━━━━━━━━━━━\u001b[0m\u001b[37m\u001b[0m \u001b[1m10s\u001b[0m 250ms/step - accuracy: 0.7377 - loss: 0.5193 - val_accuracy: 0.6219 - val_loss: 0.6566\n",
      "Epoch 6/10\n",
      "\u001b[1m40/40\u001b[0m \u001b[32m━━━━━━━━━━━━━━━━━━━━\u001b[0m\u001b[37m\u001b[0m \u001b[1m10s\u001b[0m 250ms/step - accuracy: 0.7283 - loss: 0.5343 - val_accuracy: 0.6318 - val_loss: 0.6334\n",
      "Epoch 7/10\n",
      "\u001b[1m40/40\u001b[0m \u001b[32m━━━━━━━━━━━━━━━━━━━━\u001b[0m\u001b[37m\u001b[0m \u001b[1m10s\u001b[0m 251ms/step - accuracy: 0.7776 - loss: 0.4897 - val_accuracy: 0.5970 - val_loss: 0.6661\n",
      "Epoch 8/10\n",
      "\u001b[1m40/40\u001b[0m \u001b[32m━━━━━━━━━━━━━━━━━━━━\u001b[0m\u001b[37m\u001b[0m \u001b[1m10s\u001b[0m 250ms/step - accuracy: 0.7581 - loss: 0.5091 - val_accuracy: 0.5821 - val_loss: 0.7865\n",
      "Epoch 9/10\n",
      "\u001b[1m40/40\u001b[0m \u001b[32m━━━━━━━━━━━━━━━━━━━━\u001b[0m\u001b[37m\u001b[0m \u001b[1m10s\u001b[0m 247ms/step - accuracy: 0.7247 - loss: 0.5416 - val_accuracy: 0.6617 - val_loss: 0.6205\n",
      "Epoch 10/10\n",
      "\u001b[1m40/40\u001b[0m \u001b[32m━━━━━━━━━━━━━━━━━━━━\u001b[0m\u001b[37m\u001b[0m \u001b[1m10s\u001b[0m 245ms/step - accuracy: 0.7995 - loss: 0.4448 - val_accuracy: 0.6617 - val_loss: 0.6009\n"
     ]
    }
   ],
   "source": [
    "history = model.fit(\n",
    "    train_ds,\n",
    "    epochs=10,\n",
    "    validation_data=test_ds\n",
    ")"
   ]
  },
  {
   "cell_type": "code",
   "execution_count": 27,
   "id": "c7595077-8c91-45bc-a5a0-cca36f78a519",
   "metadata": {},
   "outputs": [],
   "source": [
    "hist = history.history"
   ]
  },
  {
   "cell_type": "code",
   "execution_count": 28,
   "id": "012dc12e-e7d6-49ca-9618-93131129a8a3",
   "metadata": {},
   "outputs": [
    {
     "data": {
      "text/plain": [
       "<matplotlib.legend.Legend at 0x710c953507a0>"
      ]
     },
     "execution_count": 28,
     "metadata": {},
     "output_type": "execute_result"
    },
    {
     "data": {
      "image/png": "[encoded data removed]",
      "text/plain": [
       "<Figure size 640x480 with 1 Axes>"
      ]
     },
     "metadata": {},
     "output_type": "display_data"
    }
   ],
   "source": [
    "plt.plot(hist['accuracy'], label=('train'))\n",
    "plt.plot(hist['val_accuracy'], label=('val'))\n",
    "\n",
    "plt.xticks(np.arange(10))\n",
    "plt.legend()"
   ]
  },
  {
   "cell_type": "code",
   "execution_count": 29,
   "id": "9d45aaa3-4b08-41ae-bc7a-ea4e01730bb3",
   "metadata": {},
   "outputs": [
    {
     "name": "stdout",
     "output_type": "stream",
     "text": [
      "0.7237499952316284\n"
     ]
    }
   ],
   "source": [
    "print(np.median(hist['accuracy']))"
   ]
  },
  {
   "cell_type": "code",
   "execution_count": 30,
   "id": "ec5dcaea-4783-4d6a-8243-4ca8c3bf2a08",
   "metadata": {},
   "outputs": [
    {
     "name": "stdout",
     "output_type": "stream",
     "text": [
      "0.05930138779535613\n"
     ]
    }
   ],
   "source": [
    "print(np.std(hist['loss']))"
   ]
  },
  {
   "cell_type": "code",
   "execution_count": 31,
   "id": "ca5fff53-0d35-4404-8c18-dce0af7f069f",
   "metadata": {},
   "outputs": [
    {
     "name": "stdout",
     "output_type": "stream",
     "text": [
      "Found 800 images belonging to 2 classes.\n",
      "Found 201 images belonging to 2 classes.\n"
     ]
    }
   ],
   "source": [
    "train_generator = ImageDataGenerator(rescale=1./255,\n",
    "                                     rotation_range=50,\n",
    "                                     width_shift_range=0.1,\n",
    "                                     height_shift_range=0.1,\n",
    "                                     zoom_range=0.1,\n",
    "                                     horizontal_flip=True,\n",
    "                                     fill_mode='nearest'\n",
    "                                    )\n",
    "\n",
    "train_ds = train_generator.flow_from_directory(\n",
    "    './data/train',\n",
    "    target_size=(200, 200),\n",
    "    batch_size=20,\n",
    "    class_mode='binary',  # Ensures labels are binary (0 or 1)\n",
    "    shuffle=True\n",
    ")\n",
    "\n",
    "test_generator = ImageDataGenerator(rescale=1./255)\n",
    "\n",
    "test_ds = test_generator.flow_from_directory(\n",
    "    './data/test',\n",
    "    target_size=(200, 200),\n",
    "    class_mode='binary',\n",
    "    batch_size=20,\n",
    "    shuffle=True\n",
    ")"
   ]
  },
  {
   "cell_type": "code",
   "execution_count": 32,
   "id": "4b3cecc6-9686-49ab-8dde-e8415d30ba7c",
   "metadata": {},
   "outputs": [
    {
     "name": "stdout",
     "output_type": "stream",
     "text": [
      "Epoch 1/10\n",
      "\u001b[1m40/40\u001b[0m \u001b[32m━━━━━━━━━━━━━━━━━━━━\u001b[0m\u001b[37m\u001b[0m \u001b[1m14s\u001b[0m 341ms/step - accuracy: 0.6277 - loss: 0.6688 - val_accuracy: 0.6915 - val_loss: 0.6080\n",
      "Epoch 2/10\n",
      "\u001b[1m40/40\u001b[0m \u001b[32m━━━━━━━━━━━━━━━━━━━━\u001b[0m\u001b[37m\u001b[0m \u001b[1m14s\u001b[0m 338ms/step - accuracy: 0.6773 - loss: 0.6026 - val_accuracy: 0.6915 - val_loss: 0.5821\n",
      "Epoch 3/10\n",
      "\u001b[1m40/40\u001b[0m \u001b[32m━━━━━━━━━━━━━━━━━━━━\u001b[0m\u001b[37m\u001b[0m \u001b[1m14s\u001b[0m 342ms/step - accuracy: 0.6411 - loss: 0.6139 - val_accuracy: 0.6716 - val_loss: 0.5890\n",
      "Epoch 4/10\n",
      "\u001b[1m40/40\u001b[0m \u001b[32m━━━━━━━━━━━━━━━━━━━━\u001b[0m\u001b[37m\u001b[0m \u001b[1m14s\u001b[0m 352ms/step - accuracy: 0.6655 - loss: 0.6075 - val_accuracy: 0.6766 - val_loss: 0.5793\n",
      "Epoch 5/10\n",
      "\u001b[1m40/40\u001b[0m \u001b[32m━━━━━━━━━━━━━━━━━━━━\u001b[0m\u001b[37m\u001b[0m \u001b[1m14s\u001b[0m 336ms/step - accuracy: 0.6899 - loss: 0.5878 - val_accuracy: 0.6816 - val_loss: 0.5911\n",
      "Epoch 6/10\n",
      "\u001b[1m40/40\u001b[0m \u001b[32m━━━━━━━━━━━━━━━━━━━━\u001b[0m\u001b[37m\u001b[0m \u001b[1m14s\u001b[0m 340ms/step - accuracy: 0.6694 - loss: 0.6136 - val_accuracy: 0.6866 - val_loss: 0.5744\n",
      "Epoch 7/10\n",
      "\u001b[1m40/40\u001b[0m \u001b[32m━━━━━━━━━━━━━━━━━━━━\u001b[0m\u001b[37m\u001b[0m \u001b[1m14s\u001b[0m 339ms/step - accuracy: 0.6902 - loss: 0.5830 - val_accuracy: 0.6915 - val_loss: 0.5720\n",
      "Epoch 8/10\n",
      "\u001b[1m40/40\u001b[0m \u001b[32m━━━━━━━━━━━━━━━━━━━━\u001b[0m\u001b[37m\u001b[0m \u001b[1m14s\u001b[0m 340ms/step - accuracy: 0.7028 - loss: 0.5707 - val_accuracy: 0.7015 - val_loss: 0.5646\n",
      "Epoch 9/10\n",
      "\u001b[1m40/40\u001b[0m \u001b[32m━━━━━━━━━━━━━━━━━━━━\u001b[0m\u001b[37m\u001b[0m \u001b[1m14s\u001b[0m 338ms/step - accuracy: 0.7177 - loss: 0.5519 - val_accuracy: 0.6965 - val_loss: 0.5600\n",
      "Epoch 10/10\n",
      "\u001b[1m40/40\u001b[0m \u001b[32m━━━━━━━━━━━━━━━━━━━━\u001b[0m\u001b[37m\u001b[0m \u001b[1m14s\u001b[0m 337ms/step - accuracy: 0.6876 - loss: 0.5732 - val_accuracy: 0.6915 - val_loss: 0.6006\n"
     ]
    }
   ],
   "source": [
    "history = model.fit(\n",
    "    train_ds,\n",
    "    epochs=10,\n",
    "    validation_data=test_ds\n",
    ")"
   ]
  },
  {
   "cell_type": "code",
   "execution_count": 34,
   "id": "b670f0f8-80ce-44c7-8bfe-8e9c2a5c8927",
   "metadata": {},
   "outputs": [
    {
     "data": {
      "text/plain": [
       "{'accuracy': [0.6337500214576721,\n",
       "  0.6700000166893005,\n",
       "  0.6675000190734863,\n",
       "  0.6575000286102295,\n",
       "  0.6812499761581421,\n",
       "  0.6850000023841858,\n",
       "  0.7024999856948853,\n",
       "  0.7049999833106995,\n",
       "  0.6937500238418579,\n",
       "  0.6549999713897705],\n",
       " 'loss': [0.6442587375640869,\n",
       "  0.6075387001037598,\n",
       "  0.6018329858779907,\n",
       "  0.6191499829292297,\n",
       "  0.5908738374710083,\n",
       "  0.5948541164398193,\n",
       "  0.5743597149848938,\n",
       "  0.5682509541511536,\n",
       "  0.5671061873435974,\n",
       "  0.5969392657279968],\n",
       " 'val_accuracy': [0.6915422677993774,\n",
       "  0.6915422677993774,\n",
       "  0.6716417670249939,\n",
       "  0.676616907119751,\n",
       "  0.6815920472145081,\n",
       "  0.6865671873092651,\n",
       "  0.6915422677993774,\n",
       "  0.7014925479888916,\n",
       "  0.6965174078941345,\n",
       "  0.6915422677993774],\n",
       " 'val_loss': [0.6080355048179626,\n",
       "  0.5820595026016235,\n",
       "  0.5890285968780518,\n",
       "  0.5792649984359741,\n",
       "  0.5911295413970947,\n",
       "  0.5744116306304932,\n",
       "  0.5719661116600037,\n",
       "  0.5646107196807861,\n",
       "  0.5599920749664307,\n",
       "  0.6006226539611816]}"
      ]
     },
     "execution_count": 34,
     "metadata": {},
     "output_type": "execute_result"
    }
   ],
   "source": [
    "hist = history.history\n",
    "hist"
   ]
  },
  {
   "cell_type": "code",
   "execution_count": 36,
   "id": "f647bcae-5c4f-4a89-ab07-44910778c5e5",
   "metadata": {},
   "outputs": [
    {
     "name": "stdout",
     "output_type": "stream",
     "text": [
      "0.5821121335029602\n"
     ]
    }
   ],
   "source": [
    "print(np.mean(hist['val_loss']))"
   ]
  },
  {
   "cell_type": "code",
   "execution_count": 41,
   "id": "b1893b57-0d38-46d9-930b-b91dede9c912",
   "metadata": {},
   "outputs": [
    {
     "data": {
      "text/plain": [
       "[0.6915422677993774,\n",
       " 0.6915422677993774,\n",
       " 0.6716417670249939,\n",
       " 0.676616907119751,\n",
       " 0.6815920472145081,\n",
       " 0.6865671873092651,\n",
       " 0.6915422677993774,\n",
       " 0.7014925479888916,\n",
       " 0.6965174078941345,\n",
       " 0.6915422677993774]"
      ]
     },
     "execution_count": 41,
     "metadata": {},
     "output_type": "execute_result"
    }
   ],
   "source": [
    "hist['val_accuracy']"
   ]
  },
  {
   "cell_type": "code",
   "execution_count": null,
   "id": "ea2df9b9-cefa-4677-9910-1d8a23689d4a",
   "metadata": {},
   "outputs": [],
   "source": [
    "print(np.mean(hist['val_accuracy']))"
   ]
  }
 ],
 "metadata": {
  "kernelspec": {
   "display_name": "Python 3 (ipykernel)",
   "language": "python",
   "name": "python3"
  },
  "language_info": {
   "codemirror_mode": {
    "name": "ipython",
    "version": 3
   },
   "file_extension": ".py",
   "mimetype": "text/x-python",
   "name": "python",
   "nbconvert_exporter": "python",
   "pygments_lexer": "ipython3",
   "version": "3.12.1"
  }
 },
 "nbformat": 4,
 "nbformat_minor": 5
}
